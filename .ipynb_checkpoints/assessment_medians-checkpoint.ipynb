{
 "cells": [
  {
   "cell_type": "markdown",
   "metadata": {},
   "source": [
    "# PublicSource Residential Price Analysis"
   ]
  },
  {
   "cell_type": "markdown",
   "metadata": {},
   "source": [
    "By Nora Mattson, Data Intern"
   ]
  },
  {
   "cell_type": "markdown",
   "metadata": {},
   "source": [
    "This analysis was conducted to support visualizations for a PublicSource article about [community land trusts](https://www.publicsource.org/community-land-trusts-new-to-pittsburgh-shaped-by-pittsburgh/). Since the article relied upon assumptions about changes in the housing market, we thought that it would be relevant to show the audience what these changes were by visualizing the median housing prices in each of the neighborhoods setting up a community land trust. "
   ]
  },
  {
   "cell_type": "code",
   "execution_count": null,
   "metadata": {},
   "outputs": [],
   "source": [
    "import pandas as pd\n",
    "import matplotlib.pyplot as plt\n",
    "import numpy as np\n",
    "\n",
    "%matplotlib inline"
   ]
  },
  {
   "cell_type": "markdown",
   "metadata": {},
   "source": [
    "We used WPRDC's [Parcels n'at tool](http://tools.wprdc.org/parcels-n-at/#) because it makes it nice and easy to replicate with these or other neighborhoods. However, it is important to note that county assessment data doesn't always have the most updated real estate transactions, which is why we are only analyzing 2008-2018. Take a look at this [assessment data user guide](https://docs.google.com/document/d/1eYuJOh4_CBitclhhgeJv6iLStPjtouhXV1_2cwei_-s/edit) from WPRDC if you are interested in learning more about this data. "
   ]
  },
  {
   "cell_type": "code",
   "execution_count": 12,
   "metadata": {},
   "outputs": [],
   "source": [
    "neighborhoods = [\"westoakland\",\"bedforddwellings\",\"centrallv\",\"centraloakland\",\"crawfordroberts\",\"etna\", \n",
    "                 \"fineview\",\"garfield\",\"lowerlv\",\"middlehill\",\"millvale\",\"northoakland\",\"perryhilltop\",\n",
    "                 \"polishhill\",\"sharpsburg\",\"southoakland\",\"terracevillage\",\"upperhill\",\"upperlv\"]\n",
    "#data from WRPDC's parcels n'at tool, select the \"house hunting\" custom field list and add owner description"
   ]
  },
  {
   "cell_type": "markdown",
   "metadata": {},
   "source": [
    "Then we put all of the different CSVs into a dataframe for analysis."
   ]
  },
  {
   "cell_type": "code",
   "execution_count": 13,
   "metadata": {},
   "outputs": [],
   "source": [
    "dfs = []\n",
    "#add all of the neighborhoods to the dataframe\n",
    "for nbhd in neighborhoods:\n",
    "    df = pd.read_csv(\"median/%s.csv\"%(nbhd))\n",
    "    df[\"neighborhood__asmt\"] = nbhd\n",
    "    dfs.append(df)\n",
    "meddf = pd.concat(dfs)\n",
    "#rename columns\n",
    "meddf.rename(columns=lambda x: x[:-6], inplace=True)"
   ]
  },
  {
   "cell_type": "markdown",
   "metadata": {},
   "source": [
    "The Hill District is broken up into a bunch of smaller communities, as is Oakland and Lawrenceville, so we will go ahead and group them together. Additionally, let's look at the neighborhoods being grouped for community land trusts, Perry Hilltop and Fineview, as well as Etna, Millvale and Sharpsburg, together, which will both make more sense for this article and increase the sample size of the groups we are looking at. "
   ]
  },
  {
   "cell_type": "code",
   "execution_count": 14,
   "metadata": {},
   "outputs": [
    {
     "data": {
      "text/plain": [
       "array(['oakland', 'hilldistrict', 'lawrenceville', 'riverboroughs',\n",
       "       'perryhilltop/fineview', 'garfield', 'polishhill'], dtype=object)"
      ]
     },
     "execution_count": 14,
     "metadata": {},
     "output_type": "execute_result"
    }
   ],
   "source": [
    "#rename all of the neighburhoods with multiple census tracts\n",
    "meddf.loc[meddf[\"neighborhood\"].isin([\"westoakland\", \"centraloakland\",\"northoakland\",\"southoakland\"]), \"neighborhood\"] = \"oakland\"\n",
    "meddf.loc[meddf[\"neighborhood\"].isin([\"bedforddwellings\", \"crawfordroberts\",\"upperhill\",\"terracevillage\",\"middlehill\"]), \"neighborhood\"] = \"hilldistrict\"\n",
    "meddf.loc[meddf[\"neighborhood\"].isin([\"upperlv\", \"centrallv\",\"lowerlv\"]), \"neighborhood\"] = \"lawrenceville\"\n",
    "#for the sake of this analysis, we are grouping neighborhoods that are forming a CLT together\n",
    "meddf.loc[meddf[\"neighborhood\"].isin([\"etna\", \"millvale\",\"sharpsburg\"]), \"neighborhood\"] = \"riverboroughs\"\n",
    "meddf.loc[meddf[\"neighborhood\"].isin([\"perryhilltop\", \"fineview\",]), \"neighborhood\"] = \"perryhilltop/fineview\"\n",
    "\n",
    "meddf[\"neighborhood\"].unique()"
   ]
  },
  {
   "cell_type": "markdown",
   "metadata": {},
   "source": [
    "### Cleaning"
   ]
  },
  {
   "cell_type": "code",
   "execution_count": 15,
   "metadata": {},
   "outputs": [],
   "source": [
    "def residential(df):\n",
    "    '''Filter so we are only looking at residential properties that have an actual structure on them.'''\n",
    "    #Only looking at residential properties \n",
    "    df = df[df.CLASSDESC == \"RESIDENTIAL\"]\n",
    "    #not looking at vacant properties\n",
    "    df = df.loc[df.USEDESC !='VACANT LAND']\n",
    "    return df"
   ]
  },
  {
   "cell_type": "markdown",
   "metadata": {},
   "source": [
    "In the next step, we filter out sales that have been marked as invalid. We are interested in how much properties are actually being sold for, so prices that are lower because properties have been bundled, or because the seller is selling it to a family member for ten dollars, or higher because it involves a forced sale to the government, aren't that relevant for us. I decided to include sales that haven't been reviewed yet, so after that I went ahead and filtered out all sales less than $500 for a house, because those are likely invalid."
   ]
  },
  {
   "cell_type": "code",
   "execution_count": 28,
   "metadata": {},
   "outputs": [],
   "source": [
    "def validate(df):\n",
    "    '''Filtering out sales that have been labeled as invalid representations of actual market price.'''\n",
    "    #Making sure has been tagged as a valid sale\n",
    "    df = df[df[\"SALECODE\"].isin(['AA','0','U','UR'])]\n",
    "    df = df[df.SALEPRICE >500]\n",
    "    return df"
   ]
  },
  {
   "cell_type": "markdown",
   "metadata": {},
   "source": [
    "The dataset includes the three most recent sales of each property, so I had to separate out the other two most recent sales so they can all be included in the analysis."
   ]
  },
  {
   "cell_type": "code",
   "execution_count": 17,
   "metadata": {},
   "outputs": [],
   "source": [
    "def separate(df):\n",
    "    '''Seperating out each sale as a new row.'''\n",
    "    #this dataset records the three most recent sales\n",
    "    df[\"SALEYEAR\"] = df.SALEDATE.str[-4:]\n",
    "    df[\"PREVSALEYEAR\"] = df.PREVSALEDATE.str[-4:]\n",
    "    df[\"PREVSALEYEAR2\"] = df.PREVSALEDATE2.str[-4:]\n",
    "    #we only care about the prices\n",
    "    price = df[[\"SALEYEAR\",\"SALEPRICE\",\"neighborhood\"]]\n",
    "    #add on the previous sale\n",
    "    prev_price = df[['PREVSALEYEAR','PREVSALEPRICE',\"neighborhood\"]]\n",
    "    prev_price.columns = [\"SALEYEAR\",\"SALEPRICE\",\"neighborhood\"]\n",
    "    #add on the next previous sale\n",
    "    prev_price2 = df[[\"PREVSALEYEAR2\",\"PREVSALEPRICE2\",\"neighborhood\"]]\n",
    "    prev_price2.columns = [\"SALEYEAR\",\"SALEPRICE\",\"neighborhood\"]\n",
    "    allprice = price.append([prev_price.dropna(),prev_price2.dropna()], ignore_index = True,sort=True)\n",
    "    allprice[\"SALEYEAR\"] = pd.to_numeric(allprice[\"SALEYEAR\"])\n",
    "    return allprice"
   ]
  },
  {
   "cell_type": "markdown",
   "metadata": {},
   "source": [
    "Finally, we filter the dataset so we are only looking at 2008-2018, because we only really interested in recent trends for this particular application. "
   ]
  },
  {
   "cell_type": "code",
   "execution_count": 33,
   "metadata": {},
   "outputs": [],
   "source": [
    "def clean(df):\n",
    "    '''Cleaning the data and cutting it down to the years we are looking at.'''\n",
    "    res = residential(df)\n",
    "    val = validate(res)\n",
    "    allprice = separate(val)\n",
    "    #looking at years after housing crisis that have enough data \n",
    "    allprice = allprice[(allprice.SALEYEAR>2007)&(allprice.SALEYEAR<2019)]\n",
    "    return allprice"
   ]
  },
  {
   "cell_type": "code",
   "execution_count": 19,
   "metadata": {},
   "outputs": [
    {
     "data": {
      "text/html": [
       "<div>\n",
       "<style scoped>\n",
       "    .dataframe tbody tr th:only-of-type {\n",
       "        vertical-align: middle;\n",
       "    }\n",
       "\n",
       "    .dataframe tbody tr th {\n",
       "        vertical-align: top;\n",
       "    }\n",
       "\n",
       "    .dataframe thead th {\n",
       "        text-align: right;\n",
       "    }\n",
       "</style>\n",
       "<table border=\"1\" class=\"dataframe\">\n",
       "  <thead>\n",
       "    <tr style=\"text-align: right;\">\n",
       "      <th></th>\n",
       "      <th>SALEPRICE</th>\n",
       "      <th>SALEYEAR</th>\n",
       "      <th>neighborhood</th>\n",
       "    </tr>\n",
       "  </thead>\n",
       "  <tbody>\n",
       "    <tr>\n",
       "      <th>0</th>\n",
       "      <td>112000.0</td>\n",
       "      <td>2012</td>\n",
       "      <td>oakland</td>\n",
       "    </tr>\n",
       "    <tr>\n",
       "      <th>4</th>\n",
       "      <td>85000.0</td>\n",
       "      <td>2016</td>\n",
       "      <td>oakland</td>\n",
       "    </tr>\n",
       "    <tr>\n",
       "      <th>6</th>\n",
       "      <td>110000.0</td>\n",
       "      <td>2010</td>\n",
       "      <td>oakland</td>\n",
       "    </tr>\n",
       "    <tr>\n",
       "      <th>9</th>\n",
       "      <td>81500.0</td>\n",
       "      <td>2008</td>\n",
       "      <td>oakland</td>\n",
       "    </tr>\n",
       "    <tr>\n",
       "      <th>11</th>\n",
       "      <td>86500.0</td>\n",
       "      <td>2010</td>\n",
       "      <td>oakland</td>\n",
       "    </tr>\n",
       "  </tbody>\n",
       "</table>\n",
       "</div>"
      ],
      "text/plain": [
       "    SALEPRICE  SALEYEAR neighborhood\n",
       "0    112000.0      2012      oakland\n",
       "4     85000.0      2016      oakland\n",
       "6    110000.0      2010      oakland\n",
       "9     81500.0      2008      oakland\n",
       "11    86500.0      2010      oakland"
      ]
     },
     "execution_count": 19,
     "metadata": {},
     "output_type": "execute_result"
    }
   ],
   "source": [
    "medval = clean(meddf)\n",
    "medval.head(5)"
   ]
  },
  {
   "cell_type": "code",
   "execution_count": 31,
   "metadata": {},
   "outputs": [
    {
     "data": {
      "text/html": [
       "<div>\n",
       "<style scoped>\n",
       "    .dataframe tbody tr th:only-of-type {\n",
       "        vertical-align: middle;\n",
       "    }\n",
       "\n",
       "    .dataframe tbody tr th {\n",
       "        vertical-align: top;\n",
       "    }\n",
       "\n",
       "    .dataframe thead tr th {\n",
       "        text-align: left;\n",
       "    }\n",
       "\n",
       "    .dataframe thead tr:last-of-type th {\n",
       "        text-align: right;\n",
       "    }\n",
       "</style>\n",
       "<table border=\"1\" class=\"dataframe\">\n",
       "  <thead>\n",
       "    <tr>\n",
       "      <th></th>\n",
       "      <th colspan=\"11\" halign=\"left\">median</th>\n",
       "    </tr>\n",
       "    <tr>\n",
       "      <th>SALEYEAR</th>\n",
       "      <th>2008</th>\n",
       "      <th>2009</th>\n",
       "      <th>2010</th>\n",
       "      <th>2011</th>\n",
       "      <th>2012</th>\n",
       "      <th>2013</th>\n",
       "      <th>2014</th>\n",
       "      <th>2015</th>\n",
       "      <th>2016</th>\n",
       "      <th>2017</th>\n",
       "      <th>2018</th>\n",
       "    </tr>\n",
       "    <tr>\n",
       "      <th>neighborhood</th>\n",
       "      <th></th>\n",
       "      <th></th>\n",
       "      <th></th>\n",
       "      <th></th>\n",
       "      <th></th>\n",
       "      <th></th>\n",
       "      <th></th>\n",
       "      <th></th>\n",
       "      <th></th>\n",
       "      <th></th>\n",
       "      <th></th>\n",
       "    </tr>\n",
       "  </thead>\n",
       "  <tbody>\n",
       "    <tr>\n",
       "      <th>garfield</th>\n",
       "      <td>55600.0</td>\n",
       "      <td>1473.0</td>\n",
       "      <td>10100.0</td>\n",
       "      <td>14250.0</td>\n",
       "      <td>33500.0</td>\n",
       "      <td>72500.0</td>\n",
       "      <td>47680.0</td>\n",
       "      <td>63500.0</td>\n",
       "      <td>65000.0</td>\n",
       "      <td>78250.0</td>\n",
       "      <td>110000.0</td>\n",
       "    </tr>\n",
       "    <tr>\n",
       "      <th>hilldistrict</th>\n",
       "      <td>49900.0</td>\n",
       "      <td>70000.0</td>\n",
       "      <td>11601.0</td>\n",
       "      <td>23950.0</td>\n",
       "      <td>41950.0</td>\n",
       "      <td>57500.0</td>\n",
       "      <td>97500.0</td>\n",
       "      <td>81250.0</td>\n",
       "      <td>67000.0</td>\n",
       "      <td>60500.0</td>\n",
       "      <td>55278.0</td>\n",
       "    </tr>\n",
       "    <tr>\n",
       "      <th>lawrenceville</th>\n",
       "      <td>45900.0</td>\n",
       "      <td>47500.0</td>\n",
       "      <td>64000.0</td>\n",
       "      <td>52756.0</td>\n",
       "      <td>56500.0</td>\n",
       "      <td>89500.0</td>\n",
       "      <td>69500.0</td>\n",
       "      <td>150000.0</td>\n",
       "      <td>165000.0</td>\n",
       "      <td>215000.0</td>\n",
       "      <td>275000.0</td>\n",
       "    </tr>\n",
       "    <tr>\n",
       "      <th>oakland</th>\n",
       "      <td>89000.0</td>\n",
       "      <td>120000.0</td>\n",
       "      <td>110000.0</td>\n",
       "      <td>109000.0</td>\n",
       "      <td>100000.0</td>\n",
       "      <td>142500.0</td>\n",
       "      <td>118000.0</td>\n",
       "      <td>125000.0</td>\n",
       "      <td>159500.0</td>\n",
       "      <td>171650.0</td>\n",
       "      <td>185407.0</td>\n",
       "    </tr>\n",
       "    <tr>\n",
       "      <th>perryhilltop/fineview</th>\n",
       "      <td>10000.0</td>\n",
       "      <td>22500.0</td>\n",
       "      <td>6500.0</td>\n",
       "      <td>11000.0</td>\n",
       "      <td>15000.0</td>\n",
       "      <td>30000.0</td>\n",
       "      <td>30000.0</td>\n",
       "      <td>48000.0</td>\n",
       "      <td>48500.0</td>\n",
       "      <td>67450.0</td>\n",
       "      <td>43350.0</td>\n",
       "    </tr>\n",
       "    <tr>\n",
       "      <th>polishhill</th>\n",
       "      <td>42000.0</td>\n",
       "      <td>46000.0</td>\n",
       "      <td>69900.0</td>\n",
       "      <td>38000.0</td>\n",
       "      <td>82000.0</td>\n",
       "      <td>53500.0</td>\n",
       "      <td>107125.0</td>\n",
       "      <td>114000.0</td>\n",
       "      <td>90605.0</td>\n",
       "      <td>177500.0</td>\n",
       "      <td>155500.0</td>\n",
       "    </tr>\n",
       "    <tr>\n",
       "      <th>riverboroughs</th>\n",
       "      <td>43000.0</td>\n",
       "      <td>60000.0</td>\n",
       "      <td>56250.0</td>\n",
       "      <td>58500.0</td>\n",
       "      <td>54450.0</td>\n",
       "      <td>61750.0</td>\n",
       "      <td>65000.0</td>\n",
       "      <td>64000.0</td>\n",
       "      <td>60000.0</td>\n",
       "      <td>59000.0</td>\n",
       "      <td>61500.0</td>\n",
       "    </tr>\n",
       "  </tbody>\n",
       "</table>\n",
       "</div>"
      ],
      "text/plain": [
       "                        median                                          \\\n",
       "SALEYEAR                  2008      2009      2010      2011      2012   \n",
       "neighborhood                                                             \n",
       "garfield               55600.0    1473.0   10100.0   14250.0   33500.0   \n",
       "hilldistrict           49900.0   70000.0   11601.0   23950.0   41950.0   \n",
       "lawrenceville          45900.0   47500.0   64000.0   52756.0   56500.0   \n",
       "oakland                89000.0  120000.0  110000.0  109000.0  100000.0   \n",
       "perryhilltop/fineview  10000.0   22500.0    6500.0   11000.0   15000.0   \n",
       "polishhill             42000.0   46000.0   69900.0   38000.0   82000.0   \n",
       "riverboroughs          43000.0   60000.0   56250.0   58500.0   54450.0   \n",
       "\n",
       "                                                                         \\\n",
       "SALEYEAR                   2013      2014      2015      2016      2017   \n",
       "neighborhood                                                              \n",
       "garfield                72500.0   47680.0   63500.0   65000.0   78250.0   \n",
       "hilldistrict            57500.0   97500.0   81250.0   67000.0   60500.0   \n",
       "lawrenceville           89500.0   69500.0  150000.0  165000.0  215000.0   \n",
       "oakland                142500.0  118000.0  125000.0  159500.0  171650.0   \n",
       "perryhilltop/fineview   30000.0   30000.0   48000.0   48500.0   67450.0   \n",
       "polishhill              53500.0  107125.0  114000.0   90605.0  177500.0   \n",
       "riverboroughs           61750.0   65000.0   64000.0   60000.0   59000.0   \n",
       "\n",
       "                                 \n",
       "SALEYEAR                   2018  \n",
       "neighborhood                     \n",
       "garfield               110000.0  \n",
       "hilldistrict            55278.0  \n",
       "lawrenceville          275000.0  \n",
       "oakland                185407.0  \n",
       "perryhilltop/fineview   43350.0  \n",
       "polishhill             155500.0  \n",
       "riverboroughs           61500.0  "
      ]
     },
     "execution_count": 31,
     "metadata": {},
     "output_type": "execute_result"
    }
   ],
   "source": [
    "medgroup = medval.groupby([\"neighborhood\",\"SALEYEAR\"]).agg([np.median])[\"SALEPRICE\"]\n",
    "medgroup.unstack()"
   ]
  },
  {
   "cell_type": "markdown",
   "metadata": {},
   "source": [
    "Take a look at the amount of data for each year. Note that some neighborhoods, like Polish Hill and Garfield have less data available, which might explain some of the fluctuations in their medians. "
   ]
  },
  {
   "cell_type": "code",
   "execution_count": 32,
   "metadata": {},
   "outputs": [
    {
     "data": {
      "text/html": [
       "<div>\n",
       "<style scoped>\n",
       "    .dataframe tbody tr th:only-of-type {\n",
       "        vertical-align: middle;\n",
       "    }\n",
       "\n",
       "    .dataframe tbody tr th {\n",
       "        vertical-align: top;\n",
       "    }\n",
       "\n",
       "    .dataframe thead tr th {\n",
       "        text-align: left;\n",
       "    }\n",
       "\n",
       "    .dataframe thead tr:last-of-type th {\n",
       "        text-align: right;\n",
       "    }\n",
       "</style>\n",
       "<table border=\"1\" class=\"dataframe\">\n",
       "  <thead>\n",
       "    <tr>\n",
       "      <th></th>\n",
       "      <th colspan=\"11\" halign=\"left\">size</th>\n",
       "    </tr>\n",
       "    <tr>\n",
       "      <th>SALEYEAR</th>\n",
       "      <th>2008</th>\n",
       "      <th>2009</th>\n",
       "      <th>2010</th>\n",
       "      <th>2011</th>\n",
       "      <th>2012</th>\n",
       "      <th>2013</th>\n",
       "      <th>2014</th>\n",
       "      <th>2015</th>\n",
       "      <th>2016</th>\n",
       "      <th>2017</th>\n",
       "      <th>2018</th>\n",
       "    </tr>\n",
       "    <tr>\n",
       "      <th>neighborhood</th>\n",
       "      <th></th>\n",
       "      <th></th>\n",
       "      <th></th>\n",
       "      <th></th>\n",
       "      <th></th>\n",
       "      <th></th>\n",
       "      <th></th>\n",
       "      <th></th>\n",
       "      <th></th>\n",
       "      <th></th>\n",
       "      <th></th>\n",
       "    </tr>\n",
       "  </thead>\n",
       "  <tbody>\n",
       "    <tr>\n",
       "      <th>garfield</th>\n",
       "      <td>17.0</td>\n",
       "      <td>10.0</td>\n",
       "      <td>13.0</td>\n",
       "      <td>34.0</td>\n",
       "      <td>25.0</td>\n",
       "      <td>10.0</td>\n",
       "      <td>14.0</td>\n",
       "      <td>10.0</td>\n",
       "      <td>14.0</td>\n",
       "      <td>18.0</td>\n",
       "      <td>19.0</td>\n",
       "    </tr>\n",
       "    <tr>\n",
       "      <th>hilldistrict</th>\n",
       "      <td>35.0</td>\n",
       "      <td>28.0</td>\n",
       "      <td>22.0</td>\n",
       "      <td>34.0</td>\n",
       "      <td>24.0</td>\n",
       "      <td>18.0</td>\n",
       "      <td>8.0</td>\n",
       "      <td>12.0</td>\n",
       "      <td>14.0</td>\n",
       "      <td>28.0</td>\n",
       "      <td>21.0</td>\n",
       "    </tr>\n",
       "    <tr>\n",
       "      <th>lawrenceville</th>\n",
       "      <td>77.0</td>\n",
       "      <td>78.0</td>\n",
       "      <td>88.0</td>\n",
       "      <td>117.0</td>\n",
       "      <td>121.0</td>\n",
       "      <td>94.0</td>\n",
       "      <td>54.0</td>\n",
       "      <td>65.0</td>\n",
       "      <td>71.0</td>\n",
       "      <td>67.0</td>\n",
       "      <td>67.0</td>\n",
       "    </tr>\n",
       "    <tr>\n",
       "      <th>oakland</th>\n",
       "      <td>75.0</td>\n",
       "      <td>83.0</td>\n",
       "      <td>79.0</td>\n",
       "      <td>87.0</td>\n",
       "      <td>71.0</td>\n",
       "      <td>78.0</td>\n",
       "      <td>39.0</td>\n",
       "      <td>37.0</td>\n",
       "      <td>40.0</td>\n",
       "      <td>46.0</td>\n",
       "      <td>49.0</td>\n",
       "    </tr>\n",
       "    <tr>\n",
       "      <th>perryhilltop/fineview</th>\n",
       "      <td>43.0</td>\n",
       "      <td>24.0</td>\n",
       "      <td>27.0</td>\n",
       "      <td>50.0</td>\n",
       "      <td>35.0</td>\n",
       "      <td>17.0</td>\n",
       "      <td>25.0</td>\n",
       "      <td>20.0</td>\n",
       "      <td>20.0</td>\n",
       "      <td>22.0</td>\n",
       "      <td>28.0</td>\n",
       "    </tr>\n",
       "    <tr>\n",
       "      <th>polishhill</th>\n",
       "      <td>9.0</td>\n",
       "      <td>9.0</td>\n",
       "      <td>9.0</td>\n",
       "      <td>8.0</td>\n",
       "      <td>11.0</td>\n",
       "      <td>4.0</td>\n",
       "      <td>4.0</td>\n",
       "      <td>7.0</td>\n",
       "      <td>6.0</td>\n",
       "      <td>6.0</td>\n",
       "      <td>5.0</td>\n",
       "    </tr>\n",
       "    <tr>\n",
       "      <th>riverboroughs</th>\n",
       "      <td>86.0</td>\n",
       "      <td>68.0</td>\n",
       "      <td>74.0</td>\n",
       "      <td>62.0</td>\n",
       "      <td>84.0</td>\n",
       "      <td>56.0</td>\n",
       "      <td>33.0</td>\n",
       "      <td>39.0</td>\n",
       "      <td>47.0</td>\n",
       "      <td>58.0</td>\n",
       "      <td>68.0</td>\n",
       "    </tr>\n",
       "  </tbody>\n",
       "</table>\n",
       "</div>"
      ],
      "text/plain": [
       "                       size                                                    \\\n",
       "SALEYEAR               2008  2009  2010   2011   2012  2013  2014  2015  2016   \n",
       "neighborhood                                                                    \n",
       "garfield               17.0  10.0  13.0   34.0   25.0  10.0  14.0  10.0  14.0   \n",
       "hilldistrict           35.0  28.0  22.0   34.0   24.0  18.0   8.0  12.0  14.0   \n",
       "lawrenceville          77.0  78.0  88.0  117.0  121.0  94.0  54.0  65.0  71.0   \n",
       "oakland                75.0  83.0  79.0   87.0   71.0  78.0  39.0  37.0  40.0   \n",
       "perryhilltop/fineview  43.0  24.0  27.0   50.0   35.0  17.0  25.0  20.0  20.0   \n",
       "polishhill              9.0   9.0   9.0    8.0   11.0   4.0   4.0   7.0   6.0   \n",
       "riverboroughs          86.0  68.0  74.0   62.0   84.0  56.0  33.0  39.0  47.0   \n",
       "\n",
       "                                   \n",
       "SALEYEAR               2017  2018  \n",
       "neighborhood                       \n",
       "garfield               18.0  19.0  \n",
       "hilldistrict           28.0  21.0  \n",
       "lawrenceville          67.0  67.0  \n",
       "oakland                46.0  49.0  \n",
       "perryhilltop/fineview  22.0  28.0  \n",
       "polishhill              6.0   5.0  \n",
       "riverboroughs          58.0  68.0  "
      ]
     },
     "execution_count": 32,
     "metadata": {},
     "output_type": "execute_result"
    }
   ],
   "source": [
    "medsize = medval.groupby([\"neighborhood\",\"SALEYEAR\"]).agg([np.size])[\"SALEPRICE\"]\n",
    "medsize.unstack()"
   ]
  },
  {
   "cell_type": "markdown",
   "metadata": {},
   "source": [
    "Let's do a quick visualization of the medians, we need to flip the order of \"SALEYEAR\", \"neighborhood\" in the groupby to actually plot it, because I just like how the other order displayed in the earlier table."
   ]
  },
  {
   "cell_type": "code",
   "execution_count": 21,
   "metadata": {},
   "outputs": [
    {
     "data": {
      "text/plain": [
       "<matplotlib.axes._subplots.AxesSubplot at 0x123223ba8>"
      ]
     },
     "execution_count": 21,
     "metadata": {},
     "output_type": "execute_result"
    },
    {
     "data": {
      "image/png": "[encoded data removed]",
      "text/plain": [
       "<Figure size 432x288 with 1 Axes>"
      ]
     },
     "metadata": {
      "needs_background": "light"
     },
     "output_type": "display_data"
    }
   ],
   "source": [
    "medval.groupby([\"SALEYEAR\",\"neighborhood\"]).agg([np.median])[\"SALEPRICE\"].unstack().plot()"
   ]
  },
  {
   "cell_type": "markdown",
   "metadata": {},
   "source": [
    "Finally, here is the graphic in the article: \n",
    "![Median Prices](land_trust_graphics/median.png)"
   ]
  },
  {
   "cell_type": "code",
   "execution_count": null,
   "metadata": {},
   "outputs": [],
   "source": []
  }
 ],
 "metadata": {
  "kernelspec": {
   "display_name": "Python 2",
   "language": "python",
   "name": "python2"
  },
  "language_info": {
   "codemirror_mode": {
    "name": "ipython",
    "version": 2
   },
   "file_extension": ".py",
   "mimetype": "text/x-python",
   "name": "python",
   "nbconvert_exporter": "python",
   "pygments_lexer": "ipython2",
   "version": "2.7.10"
  }
 },
 "nbformat": 4,
 "nbformat_minor": 2
}

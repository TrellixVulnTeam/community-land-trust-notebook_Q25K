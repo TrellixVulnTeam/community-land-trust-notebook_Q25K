{
 "cells": [
  {
   "cell_type": "markdown",
   "metadata": {},
   "source": [
    "# PublicSource Corporate Ownership Analysis"
   ]
  },
  {
   "cell_type": "markdown",
   "metadata": {},
   "source": [
    "By Nora Mattson, Data Intern\n",
    "\n",
    "One of the key motivations for community land trusts is the encouragement of owner-occupied housing, maybe because there is a fear of prices being driven up by rapid resales or speculative investment. Therefore, we thought it might be relevant to show how many residential properties in a neighborhood have corporate ownership. This is not a perfect representation of how many owner-occupied houses there are in a neighborhood, nor is it necessarily a predictor of  about anything in the housing market, but it is something that many brought up in their motivation for creating a land trust, so it felt relevant to see how the neighborhoods actually compared."
   ]
  },
  {
   "cell_type": "code",
   "execution_count": 1,
   "metadata": {},
   "outputs": [],
   "source": [
    "import pandas as pd\n",
    "import matplotlib.pyplot as plt\n",
    "import numpy as np\n",
    "\n",
    "%matplotlib inline"
   ]
  },
  {
   "cell_type": "markdown",
   "metadata": {},
   "source": [
    "We used WPRDC's [Parcels n'at tool](http://tools.wprdc.org/parcels-n-at/#) because it makes it nice and easy to replicate with these or other neighborhoods. However, it is important to note that county assessment data doesn't always have the most updated real estate transactions, which is why we are only analysing 2008-2018. Take a look at this [assessment data user guide](https://docs.google.com/document/d/1eYuJOh4_CBitclhhgeJv6iLStPjtouhXV1_2cwei_-s/edit) from WPRDC if you are interested in learning more about this data. "
   ]
  },
  {
   "cell_type": "code",
   "execution_count": 2,
   "metadata": {},
   "outputs": [],
   "source": [
    "neighborhoods = [\"westoakland\",\"bedforddwellings\",\"centrallv\",\"centraloakland\",\"crawfordroberts\",\"etna\", \n",
    "                 \"fineview\",\"garfield\",\"lowerlv\",\"middlehill\",\"millvale\",\"northoakland\",\"perryhilltop\",\n",
    "                 \"polishhill\",\"sharpsburg\",\"southoakland\",\"terracevillage\",\"upperhill\",\"upperlv\"]\n",
    "#data from WRPDC's parcels n'at tool, select the \"house hunting\" custom field list and add owner description"
   ]
  },
  {
   "cell_type": "markdown",
   "metadata": {},
   "source": [
    "Then we put all of the different CSVs into a dataframe for analysis."
   ]
  },
  {
   "cell_type": "code",
   "execution_count": 3,
   "metadata": {},
   "outputs": [],
   "source": [
    "dfs = []\n",
    "#add all of the neighborhoods to the dataframe\n",
    "for nbhd in neighborhoods:\n",
    "    df = pd.read_csv(\"median/%s.csv\"%(nbhd))\n",
    "    df[\"neighborhood__asmt\"] = nbhd\n",
    "    dfs.append(df)\n",
    "corpdf = pd.concat(dfs)\n",
    "#rename columns\n",
    "corpdf.rename(columns=lambda x: x[:-6], inplace=True)"
   ]
  },
  {
   "cell_type": "markdown",
   "metadata": {},
   "source": [
    "The Hill District is broken up into a bunch of smaller communities, as is Oakland and Lawrenceville, so we will go ahead and group them together. Additionally, let's look at the neighborhoods being grouped for community land trusts, Perry Hilltop and Fineview, as well as Etna, Millvale and Sharpsburg, together, which will mirror how they are discussed in the article and increase the sample size of the groups we are looking at. "
   ]
  },
  {
   "cell_type": "code",
   "execution_count": 4,
   "metadata": {},
   "outputs": [
    {
     "data": {
      "text/plain": [
       "array(['oakland', 'hilldistrict', 'lawrenceville', 'riverboroughs',\n",
       "       'perryhilltop/fineview', 'garfield', 'polishhill'], dtype=object)"
      ]
     },
     "execution_count": 4,
     "metadata": {},
     "output_type": "execute_result"
    }
   ],
   "source": [
    "#rename all of the neighburhoods with multiple census tracts\n",
    "corpdf.loc[corpdf[\"neighborhood\"].isin([\"westoakland\", \"centraloakland\",\"northoakland\",\"southoakland\"]), \"neighborhood\"] = \"oakland\"\n",
    "corpdf.loc[corpdf[\"neighborhood\"].isin([\"bedforddwellings\", \"crawfordroberts\",\"upperhill\",\"terracevillage\",\"middlehill\"]), \"neighborhood\"] = \"hilldistrict\"\n",
    "corpdf.loc[corpdf[\"neighborhood\"].isin([\"upperlv\", \"centrallv\",\"lowerlv\"]), \"neighborhood\"] = \"lawrenceville\"\n",
    "#for the sake of this analysis, we are grouping neighborhoods that are forming a CLT together\n",
    "corpdf.loc[corpdf[\"neighborhood\"].isin([\"etna\", \"millvale\",\"sharpsburg\"]), \"neighborhood\"] = \"riverboroughs\"\n",
    "corpdf.loc[corpdf[\"neighborhood\"].isin([\"perryhilltop\", \"fineview\",]), \"neighborhood\"] = \"perryhilltop/fineview\"\n",
    "\n",
    "corpdf[\"neighborhood\"].unique()"
   ]
  },
  {
   "cell_type": "markdown",
   "metadata": {},
   "source": [
    "Next, we are only looking at residential properties that have a structure on them."
   ]
  },
  {
   "cell_type": "code",
   "execution_count": 5,
   "metadata": {},
   "outputs": [],
   "source": [
    "res = corpdf.loc[corpdf[\"CLASSDESC\"]==\"RESIDENTIAL\"]\n",
    "res = res.loc[res.USEDESC !='VACANT LAND']"
   ]
  },
  {
   "cell_type": "markdown",
   "metadata": {},
   "source": [
    "In order to figure out the percentage of each type of ownership, group it by neighborhood, and type of owner, and find percentages in each neighborhood."
   ]
  },
  {
   "cell_type": "code",
   "execution_count": 7,
   "metadata": {},
   "outputs": [
    {
     "data": {
      "text/plain": [
       "neighborhood           OWNERDESC             \n",
       "garfield               CORPORATION               23.543496\n",
       "                       REGULAR                   55.307263\n",
       "                       REGULAR-ETAL               6.304868\n",
       "                       REGULAR-ETUX OR ET VIR    14.764565\n",
       "                       REGULAR-UNFINISHED         0.079808\n",
       "hilldistrict           CORPORATION               18.933205\n",
       "                       REGULAR                   58.865930\n",
       "                       REGULAR-ETAL               7.544450\n",
       "                       REGULAR-ETUX OR ET VIR    14.656415\n",
       "lawrenceville          CORPORATION               18.454825\n",
       "                       CORPORATION-RAILROAD       0.025667\n",
       "                       CORPORATION-UNFINISHED     0.025667\n",
       "                       REGULAR                   50.744353\n",
       "                       REGULAR-ESTATE             0.025667\n",
       "                       REGULAR-ETAL               8.187885\n",
       "                       REGULAR-ETUX OR ET VIR    22.535934\n",
       "oakland                CORPORATION               18.256042\n",
       "                       REGULAR                   44.611365\n",
       "                       REGULAR-ETAL               7.903331\n",
       "                       REGULAR-ETUX OR ET VIR    29.229262\n",
       "perryhilltop/fineview  CORPORATION               17.225839\n",
       "                       REGULAR                   58.988483\n",
       "                       REGULAR-ESTATE             0.050075\n",
       "                       REGULAR-ETAL               4.907361\n",
       "                       REGULAR-ETUX OR ET VIR    18.828242\n",
       "polishhill             CORPORATION                9.795918\n",
       "                       REGULAR                   63.061224\n",
       "                       REGULAR-ETAL               6.530612\n",
       "                       REGULAR-ETUX OR ET VIR    20.612245\n",
       "riverboroughs          CORPORATION               10.768413\n",
       "                       REGULAR                   54.905610\n",
       "                       REGULAR-ETAL               6.088806\n",
       "                       REGULAR-ETUX OR ET VIR    28.210582\n",
       "                       REGULAR-UNFINISHED         0.026589\n",
       "dtype: float64"
      ]
     },
     "execution_count": 7,
     "metadata": {},
     "output_type": "execute_result"
    }
   ],
   "source": [
    "resown = res.groupby([\"neighborhood\",\"OWNERDESC\"]).size()\n",
    "by_own = resown.groupby(level=0).apply(lambda x:100 * x / float(x.sum()))\n",
    "by_own\n",
    "\n",
    "#corporations are coded as \"CORPORATION\", individuals are coded as the different categories of \"REGULAR\""
   ]
  },
  {
   "cell_type": "markdown",
   "metadata": {},
   "source": [
    "We are primarily interested in the amount of corporate ownership, so let's make a quick graph of that. "
   ]
  },
  {
   "cell_type": "code",
   "execution_count": 8,
   "metadata": {},
   "outputs": [
    {
     "data": {
      "text/html": [
       "<div>\n",
       "<style scoped>\n",
       "    .dataframe tbody tr th:only-of-type {\n",
       "        vertical-align: middle;\n",
       "    }\n",
       "\n",
       "    .dataframe tbody tr th {\n",
       "        vertical-align: top;\n",
       "    }\n",
       "\n",
       "    .dataframe thead th {\n",
       "        text-align: right;\n",
       "    }\n",
       "</style>\n",
       "<table border=\"1\" class=\"dataframe\">\n",
       "  <thead>\n",
       "    <tr style=\"text-align: right;\">\n",
       "      <th></th>\n",
       "      <th>0</th>\n",
       "    </tr>\n",
       "    <tr>\n",
       "      <th>neighborhood</th>\n",
       "      <th></th>\n",
       "    </tr>\n",
       "  </thead>\n",
       "  <tbody>\n",
       "    <tr>\n",
       "      <th>garfield</th>\n",
       "      <td>23.543496</td>\n",
       "    </tr>\n",
       "    <tr>\n",
       "      <th>hilldistrict</th>\n",
       "      <td>18.933205</td>\n",
       "    </tr>\n",
       "    <tr>\n",
       "      <th>lawrenceville</th>\n",
       "      <td>18.454825</td>\n",
       "    </tr>\n",
       "    <tr>\n",
       "      <th>oakland</th>\n",
       "      <td>18.256042</td>\n",
       "    </tr>\n",
       "    <tr>\n",
       "      <th>perryhilltop/fineview</th>\n",
       "      <td>17.225839</td>\n",
       "    </tr>\n",
       "    <tr>\n",
       "      <th>polishhill</th>\n",
       "      <td>9.795918</td>\n",
       "    </tr>\n",
       "    <tr>\n",
       "      <th>riverboroughs</th>\n",
       "      <td>10.768413</td>\n",
       "    </tr>\n",
       "  </tbody>\n",
       "</table>\n",
       "</div>"
      ],
      "text/plain": [
       "                               0\n",
       "neighborhood                    \n",
       "garfield               23.543496\n",
       "hilldistrict           18.933205\n",
       "lawrenceville          18.454825\n",
       "oakland                18.256042\n",
       "perryhilltop/fineview  17.225839\n",
       "polishhill              9.795918\n",
       "riverboroughs          10.768413"
      ]
     },
     "execution_count": 8,
     "metadata": {},
     "output_type": "execute_result"
    },
    {
     "data": {
      "image/png": "[encoded data removed]",
      "text/plain": [
       "<Figure size 432x288 with 1 Axes>"
      ]
     },
     "metadata": {
      "needs_background": "light"
     },
     "output_type": "display_data"
    }
   ],
   "source": [
    "#flip the levels so it's easier to graph\n",
    "resown = res.groupby([\"OWNERDESC\",\"neighborhood\"]).size()\n",
    "by_own = resown.groupby(level=1).apply(lambda x:100 * x / float(x.sum()))\n",
    "by_own[\"CORPORATION\"].plot(kind = \"bar\")\n",
    "pd.DataFrame(by_own[\"CORPORATION\"])"
   ]
  },
  {
   "cell_type": "markdown",
   "metadata": {},
   "source": [
    "Finally, here is the end product in the article: \n",
    "![Median Prices](land_trust_graphics/corporatevsnon.png)"
   ]
  }
 ],
 "metadata": {
  "kernelspec": {
   "display_name": "Python 3",
   "language": "python",
   "name": "python3"
  },
  "language_info": {
   "codemirror_mode": {
    "name": "ipython",
    "version": 3
   },
   "file_extension": ".py",
   "mimetype": "text/x-python",
   "name": "python",
   "nbconvert_exporter": "python",
   "pygments_lexer": "ipython3",
   "version": "3.7.2"
  }
 },
 "nbformat": 4,
 "nbformat_minor": 2
}

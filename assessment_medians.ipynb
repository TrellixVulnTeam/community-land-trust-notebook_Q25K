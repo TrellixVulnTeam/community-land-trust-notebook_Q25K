{
 "cells": [
  {
   "cell_type": "markdown",
   "metadata": {},
   "source": [
    "# PublicSource Residential Price Analysis"
   ]
  },
  {
   "cell_type": "markdown",
   "metadata": {},
   "source": [
    "By Nora Mattson, Data Intern"
   ]
  },
  {
   "cell_type": "markdown",
   "metadata": {},
   "source": [
    "This analysis was conducted to support visualizations for a PublicSource article about [community land trusts](https://www.publicsource.org/community-land-trusts-new-to-pittsburgh-shaped-by-pittsburgh/). Since the article relied upon assumptions about changes in the housing market, we thought that it would be relevant to show the audience what these changes were by visualizing the median housing prices in each of the neighborhoods setting up a community land trust. "
   ]
  },
  {
   "cell_type": "code",
   "execution_count": 1,
   "metadata": {},
   "outputs": [],
   "source": [
    "import pandas as pd\n",
    "import matplotlib.pyplot as plt\n",
    "import numpy as np\n",
    "\n",
    "%matplotlib inline"
   ]
  },
  {
   "cell_type": "markdown",
   "metadata": {},
   "source": [
    "We used WPRDC's [Parcels n'at tool](http://tools.wprdc.org/parcels-n-at/#) because it makes it nice and easy to replicate with these or other neighborhoods. However, it is important to note that county assessment data doesn't always have the most updated real estate transactions, which is why we are only analyzing 2008-2018. Take a look at this [assessment data user guide](https://docs.google.com/document/d/1eYuJOh4_CBitclhhgeJv6iLStPjtouhXV1_2cwei_-s/edit) from WPRDC if you are interested in learning more about this data. "
   ]
  },
  {
   "cell_type": "code",
   "execution_count": 2,
   "metadata": {},
   "outputs": [],
   "source": [
    "neighborhoods = [\"westoakland\",\"bedforddwellings\",\"centrallv\",\"centraloakland\",\"crawfordroberts\",\"etna\", \n",
    "                 \"fineview\",\"garfield\",\"lowerlv\",\"middlehill\",\"millvale\",\"northoakland\",\"perryhilltop\",\n",
    "                 \"polishhill\",\"sharpsburg\",\"southoakland\",\"terracevillage\",\"upperhill\",\"upperlv\"]\n",
    "#data from WRPDC's parcels n'at tool, select the \"house hunting\" custom field list and add owner description"
   ]
  },
  {
   "cell_type": "markdown",
   "metadata": {},
   "source": [
    "Then we put all of the different CSVs into a dataframe for analysis."
   ]
  },
  {
   "cell_type": "code",
   "execution_count": 3,
   "metadata": {},
   "outputs": [],
   "source": [
    "dfs = []\n",
    "#add all of the neighborhoods to the dataframe\n",
    "for nbhd in neighborhoods:\n",
    "    df = pd.read_csv(\"median/%s.csv\"%(nbhd))\n",
    "    df[\"neighborhood__asmt\"] = nbhd\n",
    "    dfs.append(df)\n",
    "meddf = pd.concat(dfs)\n",
    "#rename columns\n",
    "meddf.rename(columns=lambda x: x[:-6], inplace=True)"
   ]
  },
  {
   "cell_type": "markdown",
   "metadata": {},
   "source": [
    "The Hill District is broken up into a bunch of smaller communities, as is Oakland and Lawrenceville, so we will go ahead and group them together. Additionally, let's look at the neighborhoods being grouped for community land trusts, Perry Hilltop and Fineview, as well as Etna, Millvale and Sharpsburg, together, which will mirror how they are discussed in the article and increase the sample size of the groups we are looking at. "
   ]
  },
  {
   "cell_type": "code",
   "execution_count": 4,
   "metadata": {},
   "outputs": [
    {
     "data": {
      "text/plain": [
       "array(['oakland', 'hilldistrict', 'lawrenceville', 'riverboroughs',\n",
       "       'perryhilltop/fineview', 'garfield', 'polishhill'], dtype=object)"
      ]
     },
     "execution_count": 4,
     "metadata": {},
     "output_type": "execute_result"
    }
   ],
   "source": [
    "#rename all of the neighburhoods with multiple census tracts\n",
    "meddf.loc[meddf[\"neighborhood\"].isin([\"westoakland\", \"centraloakland\",\"northoakland\",\"southoakland\"]), \"neighborhood\"] = \"oakland\"\n",
    "meddf.loc[meddf[\"neighborhood\"].isin([\"bedforddwellings\", \"crawfordroberts\",\"upperhill\",\"terracevillage\",\"middlehill\"]), \"neighborhood\"] = \"hilldistrict\"\n",
    "meddf.loc[meddf[\"neighborhood\"].isin([\"upperlv\", \"centrallv\",\"lowerlv\"]), \"neighborhood\"] = \"lawrenceville\"\n",
    "#for the sake of this analysis, we are grouping neighborhoods that are forming a CLT together\n",
    "meddf.loc[meddf[\"neighborhood\"].isin([\"etna\", \"millvale\",\"sharpsburg\"]), \"neighborhood\"] = \"riverboroughs\"\n",
    "meddf.loc[meddf[\"neighborhood\"].isin([\"perryhilltop\", \"fineview\",]), \"neighborhood\"] = \"perryhilltop/fineview\"\n",
    "\n",
    "meddf[\"neighborhood\"].unique()"
   ]
  },
  {
   "cell_type": "markdown",
   "metadata": {},
   "source": [
    "### Cleaning"
   ]
  },
  {
   "cell_type": "code",
   "execution_count": 5,
   "metadata": {},
   "outputs": [],
   "source": [
    "def residential(df):\n",
    "    '''Filter so we are only looking at residential properties that have an actual structure on them.'''\n",
    "    #Only looking at residential properties \n",
    "    df = df[df.CLASSDESC == \"RESIDENTIAL\"]\n",
    "    #not looking at vacant properties\n",
    "    df = df.loc[df.USEDESC !='VACANT LAND']\n",
    "    return df"
   ]
  },
  {
   "cell_type": "markdown",
   "metadata": {},
   "source": [
    "In the next step, we filter out sales that have been marked as invalid. We are interested in prices an ordinary buyer might actually find on the real estate, so prices that are lower because properties have been bundled, or because the seller is selling it to a family member for ten dollars, or higher because it involves a forced sale to the government, aren't that relevant for us. I decided to include sales that haven't been reviewed yet, so after that I went ahead and filtered out all sales less than $500 for a house, because those are likely invalid. [Here](https://data.wprdc.org/dataset/real-estate-sales/resource/96474373-bcdb-42cf-af5d-3683e326e227) is the dictionary for the validation codes."
   ]
  },
  {
   "cell_type": "code",
   "execution_count": 6,
   "metadata": {},
   "outputs": [],
   "source": [
    "def validate(df):\n",
    "    '''Filtering out sales that have been labeled as invalid representations of actual market price.'''\n",
    "    #Making sure has been tagged as a valid sale\n",
    "    #'AA' indicates the sale has not been looked at, '0' indicates that it is a 'valid' sale, 'U' and'UR' mean it has been marked valid in a preliminary review. \n",
    "    df = df[df[\"SALECODE\"].isin(['AA','0','U','UR'])]\n",
    "    df = df[df.SALEPRICE >500]\n",
    "    return df"
   ]
  },
  {
   "cell_type": "markdown",
   "metadata": {},
   "source": [
    "The dataset includes the three most recent sales of each property, so I had to separate out the other two most recent sales so they can all be included in the analysis."
   ]
  },
  {
   "cell_type": "code",
   "execution_count": 7,
   "metadata": {},
   "outputs": [],
   "source": [
    "def separate(df):\n",
    "    '''Seperating out each sale as a new row.'''\n",
    "    #this dataset records the three most recent sales\n",
    "    df[\"SALEYEAR\"] = df.SALEDATE.str[-4:]\n",
    "    df[\"PREVSALEYEAR\"] = df.PREVSALEDATE.str[-4:]\n",
    "    df[\"PREVSALEYEAR2\"] = df.PREVSALEDATE2.str[-4:]\n",
    "    #we only care about the prices\n",
    "    price = df[[\"SALEYEAR\",\"SALEPRICE\",\"neighborhood\"]]\n",
    "    #add on the previous sale\n",
    "    prev_price = df[['PREVSALEYEAR','PREVSALEPRICE',\"neighborhood\"]]\n",
    "    prev_price.columns = [\"SALEYEAR\",\"SALEPRICE\",\"neighborhood\"]\n",
    "    #add on the next previous sale\n",
    "    prev_price2 = df[[\"PREVSALEYEAR2\",\"PREVSALEPRICE2\",\"neighborhood\"]]\n",
    "    prev_price2.columns = [\"SALEYEAR\",\"SALEPRICE\",\"neighborhood\"]\n",
    "    allprice = price.append([prev_price.dropna(),prev_price2.dropna()], ignore_index = True,sort=True)\n",
    "    #make the years numbers so we can compare them\n",
    "    allprice[\"SALEYEAR\"] = pd.to_numeric(allprice[\"SALEYEAR\"])\n",
    "    #filter out the sales under 500 again, because the past sales prices don't include validation codes\n",
    "    allprice = allprice[allprice.SALEPRICE >500]\n",
    "    return allprice"
   ]
  },
  {
   "cell_type": "markdown",
   "metadata": {},
   "source": [
    "Finally, we filter the dataset so we are only looking at 2008-2018, because we only really interested in recent trends for this particular application. "
   ]
  },
  {
   "cell_type": "code",
   "execution_count": 8,
   "metadata": {},
   "outputs": [],
   "source": [
    "def clean(df):\n",
    "    '''Cleaning the data and cutting it down to the years we are looking at.'''\n",
    "    res = residential(df)\n",
    "    val = validate(res)\n",
    "    allprice = separate(val)\n",
    "    #looking at years after housing crisis that have enough data \n",
    "    allprice = allprice[(allprice.SALEYEAR>2007)&(allprice.SALEYEAR<2019)]\n",
    "    return allprice"
   ]
  },
  {
   "cell_type": "code",
   "execution_count": 9,
   "metadata": {},
   "outputs": [
    {
     "data": {
      "text/html": [
       "<div>\n",
       "<style scoped>\n",
       "    .dataframe tbody tr th:only-of-type {\n",
       "        vertical-align: middle;\n",
       "    }\n",
       "\n",
       "    .dataframe tbody tr th {\n",
       "        vertical-align: top;\n",
       "    }\n",
       "\n",
       "    .dataframe thead th {\n",
       "        text-align: right;\n",
       "    }\n",
       "</style>\n",
       "<table border=\"1\" class=\"dataframe\">\n",
       "  <thead>\n",
       "    <tr style=\"text-align: right;\">\n",
       "      <th></th>\n",
       "      <th>SALEPRICE</th>\n",
       "      <th>SALEYEAR</th>\n",
       "      <th>neighborhood</th>\n",
       "    </tr>\n",
       "  </thead>\n",
       "  <tbody>\n",
       "    <tr>\n",
       "      <th>0</th>\n",
       "      <td>112000.0</td>\n",
       "      <td>2012</td>\n",
       "      <td>oakland</td>\n",
       "    </tr>\n",
       "    <tr>\n",
       "      <th>4</th>\n",
       "      <td>85000.0</td>\n",
       "      <td>2016</td>\n",
       "      <td>oakland</td>\n",
       "    </tr>\n",
       "    <tr>\n",
       "      <th>6</th>\n",
       "      <td>110000.0</td>\n",
       "      <td>2010</td>\n",
       "      <td>oakland</td>\n",
       "    </tr>\n",
       "    <tr>\n",
       "      <th>9</th>\n",
       "      <td>81500.0</td>\n",
       "      <td>2008</td>\n",
       "      <td>oakland</td>\n",
       "    </tr>\n",
       "    <tr>\n",
       "      <th>11</th>\n",
       "      <td>86500.0</td>\n",
       "      <td>2010</td>\n",
       "      <td>oakland</td>\n",
       "    </tr>\n",
       "  </tbody>\n",
       "</table>\n",
       "</div>"
      ],
      "text/plain": [
       "    SALEPRICE  SALEYEAR neighborhood\n",
       "0    112000.0      2012      oakland\n",
       "4     85000.0      2016      oakland\n",
       "6    110000.0      2010      oakland\n",
       "9     81500.0      2008      oakland\n",
       "11    86500.0      2010      oakland"
      ]
     },
     "execution_count": 9,
     "metadata": {},
     "output_type": "execute_result"
    }
   ],
   "source": [
    "medval = clean(meddf)\n",
    "medval.head(5)"
   ]
  },
  {
   "cell_type": "code",
   "execution_count": 10,
   "metadata": {},
   "outputs": [
    {
     "data": {
      "text/html": [
       "<div>\n",
       "<style scoped>\n",
       "    .dataframe tbody tr th:only-of-type {\n",
       "        vertical-align: middle;\n",
       "    }\n",
       "\n",
       "    .dataframe tbody tr th {\n",
       "        vertical-align: top;\n",
       "    }\n",
       "\n",
       "    .dataframe thead tr th {\n",
       "        text-align: left;\n",
       "    }\n",
       "\n",
       "    .dataframe thead tr:last-of-type th {\n",
       "        text-align: right;\n",
       "    }\n",
       "</style>\n",
       "<table border=\"1\" class=\"dataframe\">\n",
       "  <thead>\n",
       "    <tr>\n",
       "      <th></th>\n",
       "      <th colspan=\"11\" halign=\"left\">median</th>\n",
       "    </tr>\n",
       "    <tr>\n",
       "      <th>SALEYEAR</th>\n",
       "      <th>2008</th>\n",
       "      <th>2009</th>\n",
       "      <th>2010</th>\n",
       "      <th>2011</th>\n",
       "      <th>2012</th>\n",
       "      <th>2013</th>\n",
       "      <th>2014</th>\n",
       "      <th>2015</th>\n",
       "      <th>2016</th>\n",
       "      <th>2017</th>\n",
       "      <th>2018</th>\n",
       "    </tr>\n",
       "    <tr>\n",
       "      <th>neighborhood</th>\n",
       "      <th></th>\n",
       "      <th></th>\n",
       "      <th></th>\n",
       "      <th></th>\n",
       "      <th></th>\n",
       "      <th></th>\n",
       "      <th></th>\n",
       "      <th></th>\n",
       "      <th></th>\n",
       "      <th></th>\n",
       "      <th></th>\n",
       "    </tr>\n",
       "  </thead>\n",
       "  <tbody>\n",
       "    <tr>\n",
       "      <th>garfield</th>\n",
       "      <td>55600.0</td>\n",
       "      <td>22250.0</td>\n",
       "      <td>16050.0</td>\n",
       "      <td>19950.0</td>\n",
       "      <td>48000.0</td>\n",
       "      <td>72500.0</td>\n",
       "      <td>56180.0</td>\n",
       "      <td>63500.0</td>\n",
       "      <td>65000.0</td>\n",
       "      <td>82000.0</td>\n",
       "      <td>110000.0</td>\n",
       "    </tr>\n",
       "    <tr>\n",
       "      <th>hilldistrict</th>\n",
       "      <td>82609.0</td>\n",
       "      <td>121500.0</td>\n",
       "      <td>30000.0</td>\n",
       "      <td>36000.0</td>\n",
       "      <td>43900.0</td>\n",
       "      <td>63500.0</td>\n",
       "      <td>130000.0</td>\n",
       "      <td>81250.0</td>\n",
       "      <td>67500.0</td>\n",
       "      <td>60500.0</td>\n",
       "      <td>55278.0</td>\n",
       "    </tr>\n",
       "    <tr>\n",
       "      <th>lawrenceville</th>\n",
       "      <td>57500.0</td>\n",
       "      <td>65000.0</td>\n",
       "      <td>71750.0</td>\n",
       "      <td>56250.0</td>\n",
       "      <td>70000.0</td>\n",
       "      <td>90000.0</td>\n",
       "      <td>71000.0</td>\n",
       "      <td>175000.0</td>\n",
       "      <td>182750.0</td>\n",
       "      <td>215000.0</td>\n",
       "      <td>277000.0</td>\n",
       "    </tr>\n",
       "    <tr>\n",
       "      <th>oakland</th>\n",
       "      <td>97000.0</td>\n",
       "      <td>123725.0</td>\n",
       "      <td>110750.0</td>\n",
       "      <td>110000.0</td>\n",
       "      <td>107000.0</td>\n",
       "      <td>150000.0</td>\n",
       "      <td>135500.0</td>\n",
       "      <td>140000.0</td>\n",
       "      <td>179000.0</td>\n",
       "      <td>180000.0</td>\n",
       "      <td>185407.0</td>\n",
       "    </tr>\n",
       "    <tr>\n",
       "      <th>perryhilltop/fineview</th>\n",
       "      <td>13300.0</td>\n",
       "      <td>46000.0</td>\n",
       "      <td>8750.0</td>\n",
       "      <td>14950.0</td>\n",
       "      <td>21275.5</td>\n",
       "      <td>35000.0</td>\n",
       "      <td>35000.0</td>\n",
       "      <td>48000.0</td>\n",
       "      <td>53500.0</td>\n",
       "      <td>67450.0</td>\n",
       "      <td>44700.0</td>\n",
       "    </tr>\n",
       "    <tr>\n",
       "      <th>polishhill</th>\n",
       "      <td>42988.0</td>\n",
       "      <td>46550.0</td>\n",
       "      <td>69900.0</td>\n",
       "      <td>46000.0</td>\n",
       "      <td>82000.0</td>\n",
       "      <td>53500.0</td>\n",
       "      <td>107125.0</td>\n",
       "      <td>114000.0</td>\n",
       "      <td>90605.0</td>\n",
       "      <td>177500.0</td>\n",
       "      <td>155500.0</td>\n",
       "    </tr>\n",
       "    <tr>\n",
       "      <th>riverboroughs</th>\n",
       "      <td>46000.0</td>\n",
       "      <td>63450.0</td>\n",
       "      <td>65000.0</td>\n",
       "      <td>59750.0</td>\n",
       "      <td>58000.0</td>\n",
       "      <td>69513.0</td>\n",
       "      <td>65000.0</td>\n",
       "      <td>64450.0</td>\n",
       "      <td>65000.0</td>\n",
       "      <td>63000.0</td>\n",
       "      <td>61500.0</td>\n",
       "    </tr>\n",
       "  </tbody>\n",
       "</table>\n",
       "</div>"
      ],
      "text/plain": [
       "                        median                                          \\\n",
       "SALEYEAR                  2008      2009      2010      2011      2012   \n",
       "neighborhood                                                             \n",
       "garfield               55600.0   22250.0   16050.0   19950.0   48000.0   \n",
       "hilldistrict           82609.0  121500.0   30000.0   36000.0   43900.0   \n",
       "lawrenceville          57500.0   65000.0   71750.0   56250.0   70000.0   \n",
       "oakland                97000.0  123725.0  110750.0  110000.0  107000.0   \n",
       "perryhilltop/fineview  13300.0   46000.0    8750.0   14950.0   21275.5   \n",
       "polishhill             42988.0   46550.0   69900.0   46000.0   82000.0   \n",
       "riverboroughs          46000.0   63450.0   65000.0   59750.0   58000.0   \n",
       "\n",
       "                                                                         \\\n",
       "SALEYEAR                   2013      2014      2015      2016      2017   \n",
       "neighborhood                                                              \n",
       "garfield                72500.0   56180.0   63500.0   65000.0   82000.0   \n",
       "hilldistrict            63500.0  130000.0   81250.0   67500.0   60500.0   \n",
       "lawrenceville           90000.0   71000.0  175000.0  182750.0  215000.0   \n",
       "oakland                150000.0  135500.0  140000.0  179000.0  180000.0   \n",
       "perryhilltop/fineview   35000.0   35000.0   48000.0   53500.0   67450.0   \n",
       "polishhill              53500.0  107125.0  114000.0   90605.0  177500.0   \n",
       "riverboroughs           69513.0   65000.0   64450.0   65000.0   63000.0   \n",
       "\n",
       "                                 \n",
       "SALEYEAR                   2018  \n",
       "neighborhood                     \n",
       "garfield               110000.0  \n",
       "hilldistrict            55278.0  \n",
       "lawrenceville          277000.0  \n",
       "oakland                185407.0  \n",
       "perryhilltop/fineview   44700.0  \n",
       "polishhill             155500.0  \n",
       "riverboroughs           61500.0  "
      ]
     },
     "execution_count": 10,
     "metadata": {},
     "output_type": "execute_result"
    }
   ],
   "source": [
    "medgroup = medval.groupby([\"neighborhood\",\"SALEYEAR\"]).agg([np.median])[\"SALEPRICE\"]\n",
    "medgroup.unstack()"
   ]
  },
  {
   "cell_type": "markdown",
   "metadata": {},
   "source": [
    "Take a look at the amount of data for each year. Note that some neighborhoods, like Polish Hill and Garfield have less data available, which might explain some of the fluctuations in their medians. "
   ]
  },
  {
   "cell_type": "code",
   "execution_count": 26,
   "metadata": {},
   "outputs": [
    {
     "data": {
      "text/html": [
       "<div>\n",
       "<style scoped>\n",
       "    .dataframe tbody tr th:only-of-type {\n",
       "        vertical-align: middle;\n",
       "    }\n",
       "\n",
       "    .dataframe tbody tr th {\n",
       "        vertical-align: top;\n",
       "    }\n",
       "\n",
       "    .dataframe thead tr th {\n",
       "        text-align: left;\n",
       "    }\n",
       "\n",
       "    .dataframe thead tr:last-of-type th {\n",
       "        text-align: right;\n",
       "    }\n",
       "</style>\n",
       "<table border=\"1\" class=\"dataframe\">\n",
       "  <thead>\n",
       "    <tr>\n",
       "      <th></th>\n",
       "      <th colspan=\"11\" halign=\"left\">sample_size</th>\n",
       "    </tr>\n",
       "    <tr>\n",
       "      <th>SALEYEAR</th>\n",
       "      <th>2008</th>\n",
       "      <th>2009</th>\n",
       "      <th>2010</th>\n",
       "      <th>2011</th>\n",
       "      <th>2012</th>\n",
       "      <th>2013</th>\n",
       "      <th>2014</th>\n",
       "      <th>2015</th>\n",
       "      <th>2016</th>\n",
       "      <th>2017</th>\n",
       "      <th>2018</th>\n",
       "    </tr>\n",
       "    <tr>\n",
       "      <th>neighborhood</th>\n",
       "      <th></th>\n",
       "      <th></th>\n",
       "      <th></th>\n",
       "      <th></th>\n",
       "      <th></th>\n",
       "      <th></th>\n",
       "      <th></th>\n",
       "      <th></th>\n",
       "      <th></th>\n",
       "      <th></th>\n",
       "      <th></th>\n",
       "    </tr>\n",
       "  </thead>\n",
       "  <tbody>\n",
       "    <tr>\n",
       "      <th>garfield</th>\n",
       "      <td>17.0</td>\n",
       "      <td>6.0</td>\n",
       "      <td>12.0</td>\n",
       "      <td>30.0</td>\n",
       "      <td>23.0</td>\n",
       "      <td>10.0</td>\n",
       "      <td>12.0</td>\n",
       "      <td>10.0</td>\n",
       "      <td>14.0</td>\n",
       "      <td>17.0</td>\n",
       "      <td>19.0</td>\n",
       "    </tr>\n",
       "    <tr>\n",
       "      <th>hilldistrict</th>\n",
       "      <td>29.0</td>\n",
       "      <td>20.0</td>\n",
       "      <td>17.0</td>\n",
       "      <td>28.0</td>\n",
       "      <td>23.0</td>\n",
       "      <td>16.0</td>\n",
       "      <td>7.0</td>\n",
       "      <td>12.0</td>\n",
       "      <td>13.0</td>\n",
       "      <td>28.0</td>\n",
       "      <td>21.0</td>\n",
       "    </tr>\n",
       "    <tr>\n",
       "      <th>lawrenceville</th>\n",
       "      <td>68.0</td>\n",
       "      <td>69.0</td>\n",
       "      <td>77.0</td>\n",
       "      <td>110.0</td>\n",
       "      <td>109.0</td>\n",
       "      <td>91.0</td>\n",
       "      <td>52.0</td>\n",
       "      <td>56.0</td>\n",
       "      <td>62.0</td>\n",
       "      <td>66.0</td>\n",
       "      <td>65.0</td>\n",
       "    </tr>\n",
       "    <tr>\n",
       "      <th>oakland</th>\n",
       "      <td>65.0</td>\n",
       "      <td>78.0</td>\n",
       "      <td>72.0</td>\n",
       "      <td>80.0</td>\n",
       "      <td>65.0</td>\n",
       "      <td>75.0</td>\n",
       "      <td>36.0</td>\n",
       "      <td>31.0</td>\n",
       "      <td>37.0</td>\n",
       "      <td>39.0</td>\n",
       "      <td>49.0</td>\n",
       "    </tr>\n",
       "    <tr>\n",
       "      <th>perryhilltop/fineview</th>\n",
       "      <td>38.0</td>\n",
       "      <td>17.0</td>\n",
       "      <td>26.0</td>\n",
       "      <td>44.0</td>\n",
       "      <td>30.0</td>\n",
       "      <td>16.0</td>\n",
       "      <td>19.0</td>\n",
       "      <td>20.0</td>\n",
       "      <td>19.0</td>\n",
       "      <td>22.0</td>\n",
       "      <td>27.0</td>\n",
       "    </tr>\n",
       "    <tr>\n",
       "      <th>polishhill</th>\n",
       "      <td>8.0</td>\n",
       "      <td>8.0</td>\n",
       "      <td>9.0</td>\n",
       "      <td>7.0</td>\n",
       "      <td>11.0</td>\n",
       "      <td>4.0</td>\n",
       "      <td>4.0</td>\n",
       "      <td>7.0</td>\n",
       "      <td>6.0</td>\n",
       "      <td>6.0</td>\n",
       "      <td>5.0</td>\n",
       "    </tr>\n",
       "    <tr>\n",
       "      <th>riverboroughs</th>\n",
       "      <td>77.0</td>\n",
       "      <td>62.0</td>\n",
       "      <td>63.0</td>\n",
       "      <td>58.0</td>\n",
       "      <td>77.0</td>\n",
       "      <td>52.0</td>\n",
       "      <td>33.0</td>\n",
       "      <td>38.0</td>\n",
       "      <td>45.0</td>\n",
       "      <td>55.0</td>\n",
       "      <td>68.0</td>\n",
       "    </tr>\n",
       "  </tbody>\n",
       "</table>\n",
       "</div>"
      ],
      "text/plain": [
       "                      sample_size                                              \\\n",
       "SALEYEAR                     2008  2009  2010   2011   2012  2013  2014  2015   \n",
       "neighborhood                                                                    \n",
       "garfield                     17.0   6.0  12.0   30.0   23.0  10.0  12.0  10.0   \n",
       "hilldistrict                 29.0  20.0  17.0   28.0   23.0  16.0   7.0  12.0   \n",
       "lawrenceville                68.0  69.0  77.0  110.0  109.0  91.0  52.0  56.0   \n",
       "oakland                      65.0  78.0  72.0   80.0   65.0  75.0  36.0  31.0   \n",
       "perryhilltop/fineview        38.0  17.0  26.0   44.0   30.0  16.0  19.0  20.0   \n",
       "polishhill                    8.0   8.0   9.0    7.0   11.0   4.0   4.0   7.0   \n",
       "riverboroughs                77.0  62.0  63.0   58.0   77.0  52.0  33.0  38.0   \n",
       "\n",
       "                                         \n",
       "SALEYEAR               2016  2017  2018  \n",
       "neighborhood                             \n",
       "garfield               14.0  17.0  19.0  \n",
       "hilldistrict           13.0  28.0  21.0  \n",
       "lawrenceville          62.0  66.0  65.0  \n",
       "oakland                37.0  39.0  49.0  \n",
       "perryhilltop/fineview  19.0  22.0  27.0  \n",
       "polishhill              6.0   6.0   5.0  \n",
       "riverboroughs          45.0  55.0  68.0  "
      ]
     },
     "execution_count": 26,
     "metadata": {},
     "output_type": "execute_result"
    }
   ],
   "source": [
    "medsize = medval.groupby([\"neighborhood\",\"SALEYEAR\"]).agg([np.size])[\"SALEPRICE\"]\n",
    "medsize.columns={\"sample_size\"}\n",
    "medsize.unstack()"
   ]
  },
  {
   "cell_type": "markdown",
   "metadata": {},
   "source": [
    "Let's do a quick visualization of the medians, we need to flip the order of \"SALEYEAR\", \"neighborhood\" in the groupby to actually plot it, because I just like how the other order displayed in the earlier table."
   ]
  },
  {
   "cell_type": "code",
   "execution_count": 12,
   "metadata": {},
   "outputs": [
    {
     "data": {
      "text/plain": [
       "<matplotlib.axes._subplots.AxesSubplot at 0x11a477e48>"
      ]
     },
     "execution_count": 12,
     "metadata": {},
     "output_type": "execute_result"
    },
    {
     "data": {
      "image/png": "[encoded data removed]",
      "text/plain": [
       "<Figure size 432x288 with 1 Axes>"
      ]
     },
     "metadata": {
      "needs_background": "light"
     },
     "output_type": "display_data"
    }
   ],
   "source": [
    "medval.groupby([\"SALEYEAR\",\"neighborhood\"]).agg([np.median])[\"SALEPRICE\"].unstack().plot()"
   ]
  },
  {
   "cell_type": "markdown",
   "metadata": {},
   "source": [
    "Finally, here is the graphic in the article: \n",
    "![Median Prices](land_trust_graphics/median.png)"
   ]
  }
 ],
 "metadata": {
  "kernelspec": {
   "display_name": "Python 2",
   "language": "python",
   "name": "python2"
  },
  "language_info": {
   "codemirror_mode": {
    "name": "ipython",
    "version": 2
   },
   "file_extension": ".py",
   "mimetype": "text/x-python",
   "name": "python",
   "nbconvert_exporter": "python",
   "pygments_lexer": "ipython2",
   "version": "2.7.10"
  }
 },
 "nbformat": 4,
 "nbformat_minor": 2
}
